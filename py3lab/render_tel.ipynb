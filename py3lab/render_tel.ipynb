{
 "metadata": {
  "name": ""
 },
 "nbformat": 3,
 "nbformat_minor": 0,
 "worksheets": [
  {
   "cells": [
    {
     "cell_type": "code",
     "collapsed": false,
     "input": [
      "from gi.repository import Gtk, Pango, PangoCairo\n",
      "import cairo\n",
      "#import numpy\n",
      "#import cairocffi as cairo"
     ],
     "language": "python",
     "metadata": {},
     "outputs": [],
     "prompt_number": 1
    },
    {
     "cell_type": "code",
     "collapsed": false,
     "input": [
      "#data = numpy.zeros((120*120*4), dtype=numpy.uint8)\n",
      "#data.nbytes\n",
      "#data.shape"
     ],
     "language": "python",
     "metadata": {},
     "outputs": [],
     "prompt_number": 2
    },
    {
     "cell_type": "code",
     "collapsed": false,
     "input": [
      "#import array\n",
      "#data = array.array('i', range(120*120*4))"
     ],
     "language": "python",
     "metadata": {},
     "outputs": [],
     "prompt_number": 3
    },
    {
     "cell_type": "code",
     "collapsed": false,
     "input": [
      "#surface = cairo.ImageSurface(cairo.FORMAT_ARGB32, 120, 120, data)\n",
      "surface = cairo.ImageSurface(cairo.FORMAT_ARGB32, 120, 120)\n",
      "context = cairo.Context(surface)"
     ],
     "language": "python",
     "metadata": {},
     "outputs": [],
     "prompt_number": 4
    },
    {
     "cell_type": "code",
     "collapsed": false,
     "input": [
      "layout = PangoCairo.create_layout(context)\n"
     ],
     "language": "python",
     "metadata": {},
     "outputs": [],
     "prompt_number": 5
    },
    {
     "cell_type": "code",
     "collapsed": false,
     "input": [
      "layout.set_text(\"\u0c15\u0c30\u0c4d\u0c2e\u0c23\u0c4d\u0c2f\u0c47\u0c35\u0c3e\u0c27\u0c3f\u0c15\u0c3e\u0c30\u0c38\u0c4d\u0c24\u0c47\", -1)\n",
      "font_desc = Pango.FontDescription('/home/rakesha/.fonts/Ponnala.ttf')\n",
      "layout.set_font_description(font_desc)\n",
      "PangoCairo.update_layout(context, layout)\n",
      "PangoCairo.show_layout(context, layout)"
     ],
     "language": "python",
     "metadata": {},
     "outputs": [],
     "prompt_number": 6
    },
    {
     "cell_type": "code",
     "collapsed": false,
     "input": [
      "with open(\"blah.png\", \"wb\") as img_f:\n",
      "    surface.write_to_png(img_f)"
     ],
     "language": "python",
     "metadata": {},
     "outputs": [],
     "prompt_number": 6
    },
    {
     "cell_type": "code",
     "collapsed": false,
     "input": [
      "surface.get_data()"
     ],
     "language": "python",
     "metadata": {},
     "outputs": [
      {
       "metadata": {},
       "output_type": "pyout",
       "prompt_number": 7,
       "text": [
        "<read-write buffer for 0x7f12a858cd90, size -1, offset 0 at 0x7f12a3ec64f0>"
       ]
      }
     ],
     "prompt_number": 7
    },
    {
     "cell_type": "code",
     "collapsed": false,
     "input": [],
     "language": "python",
     "metadata": {},
     "outputs": []
    }
   ],
   "metadata": {}
  }
 ]
}